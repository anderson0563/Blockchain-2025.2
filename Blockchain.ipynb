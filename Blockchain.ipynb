{
  "nbformat": 4,
  "nbformat_minor": 0,
  "metadata": {
    "colab": {
      "provenance": []
    },
    "kernelspec": {
      "name": "python3",
      "display_name": "Python 3"
    },
    "language_info": {
      "name": "python"
    }
  },
  "cells": [
    {
      "cell_type": "code",
      "execution_count": 2,
      "metadata": {
        "colab": {
          "base_uri": "https://localhost:8080/"
        },
        "id": "GSbdpQFAmY1P",
        "outputId": "bfac911d-14c6-408e-b61b-c307f4ddfb0f"
      },
      "outputs": [
        {
          "output_type": "stream",
          "name": "stdout",
          "text": [
            "Bloco 0:\n",
            "Timestamp: Sun Apr 27 23:37:23 2025\n",
            "Transações: Bloco Gênesis\n",
            "Hash Anterior: 0\n",
            "Hash Atual: 0c5be5498d207e95849352568ca6594c3e6691a32f96e6d51bdd4e12c849c56c\n",
            "------------------------------------------------------------\n",
            "Bloco 1:\n",
            "Timestamp: Sun Apr 27 23:37:23 2025\n",
            "Transações: {'de': 'Alice', 'para': 'Bob', 'valor': 50}\n",
            "Hash Anterior: 0c5be5498d207e95849352568ca6594c3e6691a32f96e6d51bdd4e12c849c56c\n",
            "Hash Atual: 1ffe2f0a643b61802c3809a2298abb0b0de06c1265345f2c2012bde5d7348f28\n",
            "------------------------------------------------------------\n",
            "Bloco 2:\n",
            "Timestamp: Sun Apr 27 23:37:23 2025\n",
            "Transações: {'de': 'Bob', 'para': 'Charlie', 'valor': 30}\n",
            "Hash Anterior: 1ffe2f0a643b61802c3809a2298abb0b0de06c1265345f2c2012bde5d7348f28\n",
            "Hash Atual: 41344448c4e629f0757f3ad73cb217d428e9720bb4d314b56f9ba5a9bc6951b2\n",
            "------------------------------------------------------------\n",
            "Bloco 3:\n",
            "Timestamp: Sun Apr 27 23:37:23 2025\n",
            "Transações: {'de': 'Charlie', 'para': 'Dave', 'valor': 20}\n",
            "Hash Anterior: 41344448c4e629f0757f3ad73cb217d428e9720bb4d314b56f9ba5a9bc6951b2\n",
            "Hash Atual: f958b8cf2f8e92342ac54049537c655051fad9bd962800f039f25ceaa613feba\n",
            "------------------------------------------------------------\n"
          ]
        }
      ],
      "source": [
        "import hashlib\n",
        "import time\n",
        "\n",
        "# Classe que representa um Bloco da Blockchain\n",
        "class Bloco:\n",
        "    def __init__(self, transacoes, hash_anterior=''):\n",
        "        self.timestamp = time.time()              # Data/hora de criação\n",
        "        self.transacoes = transacoes               # Dados de transação financeira\n",
        "        self.hash_anterior = hash_anterior         # Hash do bloco anterior\n",
        "        self.hash = self.calcular_hash()           # Hash deste bloco\n",
        "\n",
        "    def calcular_hash(self):\n",
        "        # Montar string de conteúdo para gerar o hash\n",
        "        conteudo = f\"{self.timestamp}{self.transacoes}{self.hash_anterior}\".encode()\n",
        "        return hashlib.sha256(conteudo).hexdigest()\n",
        "\n",
        "# Classe que representa a Blockchain\n",
        "class Blockchain:\n",
        "    def __init__(self):\n",
        "        self.chain = [self.criar_bloco_genesis()]  # A cadeia começa com um bloco especial: o Gênesis\n",
        "\n",
        "    def criar_bloco_genesis(self):\n",
        "        # Primeiro bloco, sem dados anteriores\n",
        "        return Bloco(\"Bloco Gênesis\", \"0\")\n",
        "\n",
        "    def obter_ultimo_bloco(self):\n",
        "        return self.chain[-1]\n",
        "\n",
        "    def adicionar_bloco(self, transacoes):\n",
        "        bloco_anterior = self.obter_ultimo_bloco()\n",
        "        novo_bloco = Bloco(transacoes, bloco_anterior.hash)\n",
        "        self.chain.append(novo_bloco)\n",
        "\n",
        "    def imprimir_blockchain(self):\n",
        "        for idx, bloco in enumerate(self.chain):\n",
        "            print(f\"Bloco {idx}:\")\n",
        "            print(f\"Timestamp: {time.ctime(bloco.timestamp)}\")\n",
        "            print(f\"Transações: {bloco.transacoes}\")\n",
        "            print(f\"Hash Anterior: {bloco.hash_anterior}\")\n",
        "            print(f\"Hash Atual: {bloco.hash}\")\n",
        "            print(\"-\" * 60)\n",
        "\n",
        "# Exemplo de uso\n",
        "if __name__ == \"__main__\":\n",
        "    # Criar a blockchain\n",
        "    minha_blockchain = Blockchain()\n",
        "\n",
        "    # Adicionar transações\n",
        "    minha_blockchain.adicionar_bloco({\"de\": \"Alice\", \"para\": \"Bob\", \"valor\": 50})\n",
        "    minha_blockchain.adicionar_bloco({\"de\": \"Bob\", \"para\": \"Charlie\", \"valor\": 30})\n",
        "    minha_blockchain.adicionar_bloco({\"de\": \"Charlie\", \"para\": \"Dave\", \"valor\": 20})\n",
        "\n",
        "    # Exibir a blockchain\n",
        "    minha_blockchain.imprimir_blockchain()\n"
      ]
    },
    {
      "cell_type": "code",
      "source": [
        "import hashlib\n",
        "import time\n",
        "\n",
        "class Bloco:\n",
        "    def __init__(self, transacoes, hash_anterior='', dificuldade=4):\n",
        "        self.timestamp = time.time()\n",
        "        self.transacoes = transacoes\n",
        "        self.hash_anterior = hash_anterior\n",
        "        self.nonce = 0\n",
        "        self.dificuldade = dificuldade\n",
        "        self.hash = self.minerar_bloco()\n",
        "\n",
        "    def calcular_hash(self):\n",
        "        conteudo = f\"{self.timestamp}{self.transacoes}{self.hash_anterior}{self.nonce}\".encode()\n",
        "        return hashlib.sha256(conteudo).hexdigest()\n",
        "\n",
        "    def minerar_bloco(self):\n",
        "        print(\"⛏️ Minerando bloco...\")\n",
        "        prefixo = '0' * self.dificuldade\n",
        "        while True:\n",
        "            hash_tentativa = self.calcular_hash()\n",
        "            if hash_tentativa.startswith(prefixo):\n",
        "                print(f\"✅ Bloco minerado! Nonce: {self.nonce}, Hash: {hash_tentativa}\")\n",
        "                return hash_tentativa\n",
        "            self.nonce += 1\n",
        "\n",
        "# Exemplo de uso\n",
        "if __name__ == \"__main__\":\n",
        "    bloco = Bloco({\"de\": \"Alice\", \"para\": \"Bob\", \"valor\": 100}, \"0\", dificuldade=5)\n",
        "    print(f\"\\nHash final do bloco: {bloco.hash}\")\n"
      ],
      "metadata": {
        "colab": {
          "base_uri": "https://localhost:8080/"
        },
        "id": "g_oVuKlVqE9i",
        "outputId": "ad98fb78-2994-411a-9ebb-3f4793519468"
      },
      "execution_count": 6,
      "outputs": [
        {
          "output_type": "stream",
          "name": "stdout",
          "text": [
            "⛏️ Minerando bloco...\n",
            "✅ Bloco minerado! Nonce: 1719684, Hash: 000006740d4ddf769fcb827c38a69ab6ade4a128db2e4db4680231bf76c8cf02\n",
            "\n",
            "Hash final do bloco: 000006740d4ddf769fcb827c38a69ab6ade4a128db2e4db4680231bf76c8cf02\n"
          ]
        }
      ]
    },
    {
      "cell_type": "code",
      "source": [
        "class Blockchain:\n",
        "    def __init__(self):\n",
        "        self.chain = [self.criar_bloco_genesis()]\n",
        "        self.dificuldade = 4  # Dificuldade para mineração\n",
        "\n",
        "    def criar_bloco_genesis(self):\n",
        "        return Bloco(\"Bloco Gênesis\", \"0\", dificuldade=4)\n",
        "\n",
        "    def obter_ultimo_bloco(self):\n",
        "        return self.chain[-1]\n",
        "\n",
        "    def adicionar_bloco(self, transacoes):\n",
        "        bloco_anterior = self.obter_ultimo_bloco()\n",
        "        novo_bloco = Bloco(transacoes, bloco_anterior.hash, dificuldade=self.dificuldade)\n",
        "        self.chain.append(novo_bloco)\n",
        "\n",
        "    def validar_blockchain(self):\n",
        "        prefixo = '0' * self.dificuldade\n",
        "        for i in range(1, len(self.chain)):\n",
        "            bloco_atual = self.chain[i]\n",
        "            bloco_anterior = self.chain[i-1]\n",
        "\n",
        "            # 1. Verificar se o hash atual é válido\n",
        "            if bloco_atual.hash != bloco_atual.calcular_hash():\n",
        "                print(f\"❌ Hash inválido no bloco {i}\")\n",
        "                return False\n",
        "\n",
        "            # 2. Verificar se o hash anterior bate\n",
        "            if bloco_atual.hash_anterior != bloco_anterior.hash:\n",
        "                print(f\"❌ Hash anterior inválido no bloco {i}\")\n",
        "                return False\n",
        "\n",
        "            # 3. Verificar se a prova de trabalho está correta\n",
        "            if not bloco_atual.hash.startswith(prefixo):\n",
        "                print(f\"❌ Prova de trabalho inválida no bloco {i}\")\n",
        "                return False\n",
        "\n",
        "        print(\"✅ Blockchain válida!\")\n",
        "        return True\n",
        "\n",
        "# Exemplo de uso\n",
        "if __name__ == \"__main__\":\n",
        "    # Criar a blockchain\n",
        "    minha_blockchain = Blockchain()\n",
        "\n",
        "    # Adicionar transações\n",
        "    minha_blockchain.adicionar_bloco({\"de\": \"Alice\", \"para\": \"Bob\", \"valor\": 50})\n",
        "    minha_blockchain.adicionar_bloco({\"de\": \"Bob\", \"para\": \"Charlie\", \"valor\": 30})\n",
        "    minha_blockchain.adicionar_bloco({\"de\": \"Charlie\", \"para\": \"Dave\", \"valor\": 20})\n",
        "\n",
        "    # Validar\n",
        "    minha_blockchain.validar_blockchain()\n"
      ],
      "metadata": {
        "colab": {
          "base_uri": "https://localhost:8080/"
        },
        "id": "tO-oxPOYr3ub",
        "outputId": "fe63e619-62bc-4350-9170-63d974bf2891"
      },
      "execution_count": 7,
      "outputs": [
        {
          "output_type": "stream",
          "name": "stdout",
          "text": [
            "⛏️ Minerando bloco...\n",
            "✅ Bloco minerado! Nonce: 70080, Hash: 00005374e32571ef008620c5bdd0665aaa3986ef5e21142a3f19fea26aa88f93\n",
            "⛏️ Minerando bloco...\n",
            "✅ Bloco minerado! Nonce: 100812, Hash: 00008b9802117d187f2df0f35290636932b9f0fc25186c47a55563d391bd1b36\n",
            "⛏️ Minerando bloco...\n",
            "✅ Bloco minerado! Nonce: 42972, Hash: 0000589850e3bae05fde2bfb58a89f6736dbeaf7825cccacc205523fc4ccd0ad\n",
            "⛏️ Minerando bloco...\n",
            "✅ Bloco minerado! Nonce: 26394, Hash: 000001a0228063dcf2b143d0ac3efaffdea9bb40d8b33e5f4026adbaf57b2cdf\n",
            "✅ Blockchain válida!\n"
          ]
        }
      ]
    },
    {
      "cell_type": "code",
      "source": [
        "class SmartContractVenda:\n",
        "    def __init__(self, comprador, vendedor, produto, preco):\n",
        "        self.comprador = comprador\n",
        "        self.vendedor = vendedor\n",
        "        self.produto = produto\n",
        "        self.preco = preco\n",
        "        self.pago = False\n",
        "\n",
        "    def pagar(self, pagador, valor):\n",
        "        if pagador != self.comprador:\n",
        "            print(\"❌ Somente o comprador pode pagar.\")\n",
        "            return False\n",
        "        if valor != self.preco:\n",
        "            print(\"❌ Valor incorreto.\")\n",
        "            return False\n",
        "        self.pago = True\n",
        "        print(f\"✅ Pagamento recebido de {pagador}. Produto '{self.produto}' será enviado para {pagador}.\")\n",
        "        return True\n",
        "\n",
        "# Exemplo de uso:\n",
        "if __name__ == \"__main__\":\n",
        "    contrato = SmartContractVenda(\"Bob\", \"LojaX\", \"Ingresso Show\", 100)\n",
        "\n",
        "    contrato.pagar(\"Bob\", 100)  # Executa o contrato\n"
      ],
      "metadata": {
        "colab": {
          "base_uri": "https://localhost:8080/"
        },
        "id": "VusZ7H5u1XuX",
        "outputId": "67b651b4-70b0-4c8c-d997-780ceeb2c600"
      },
      "execution_count": 9,
      "outputs": [
        {
          "output_type": "stream",
          "name": "stdout",
          "text": [
            "✅ Pagamento recebido de Bob. Produto 'Ingresso Show' será enviado para Bob.\n"
          ]
        }
      ]
    }
  ]
}