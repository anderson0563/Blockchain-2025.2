{
  "nbformat": 4,
  "nbformat_minor": 0,
  "metadata": {
    "colab": {
      "provenance": []
    },
    "kernelspec": {
      "name": "python3",
      "display_name": "Python 3"
    },
    "language_info": {
      "name": "python"
    }
  },
  "cells": [
    {
      "cell_type": "code",
      "source": [
        "!pip install pyaes pbkdf2"
      ],
      "metadata": {
        "colab": {
          "base_uri": "https://localhost:8080/"
        },
        "id": "HbZJbGWljtXf",
        "outputId": "b7407c04-18c1-4eb1-8704-61ab340a0071"
      },
      "execution_count": 6,
      "outputs": [
        {
          "output_type": "stream",
          "name": "stdout",
          "text": [
            "Collecting pyaes\n",
            "  Using cached pyaes-1.6.1-py3-none-any.whl\n",
            "Collecting pbkdf2\n",
            "  Using cached pbkdf2-1.3-py3-none-any.whl\n",
            "Installing collected packages: pyaes, pbkdf2\n",
            "Successfully installed pbkdf2-1.3 pyaes-1.6.1\n"
          ]
        }
      ]
    },
    {
      "cell_type": "code",
      "execution_count": 7,
      "metadata": {
        "colab": {
          "base_uri": "https://localhost:8080/"
        },
        "id": "V-JSZFufjnyw",
        "outputId": "c14a7f53-8894-4613-9407-004935a7a435"
      },
      "outputs": [
        {
          "output_type": "stream",
          "name": "stdout",
          "text": [
            "AES encryption key: b'4ed2443cf6a2476ebd2bd5ed301c61cbbb0c655032d8055e00d7042eb4c7c8e0'\n",
            "Plain Text: Text for encryption\n",
            "Encrypted: b'ee41483d31b6827e1ceed754f7bb630a839cdb'\n",
            "Decrypted: b'Text for encryption'\n"
          ]
        }
      ],
      "source": [
        "import pyaes, pbkdf2, secrets, binascii, os\n",
        "\n",
        "# Derive a 256-bit AES encryption key from the password\n",
        "password = \"s3cr3t*c0d3\"\n",
        "passwordSalt = os.urandom(16)\n",
        "key = pbkdf2.PBKDF2(password, passwordSalt).read(32)\n",
        "print('AES encryption key:', binascii.hexlify(key))\n",
        "\n",
        "# Encrypt the plaintext with the given key:\n",
        "#   ciphertext = AES-256-CTR-Encrypt(plaintext, key, iv)\n",
        "iv = secrets.randbits(256)\n",
        "plaintext = \"Text for encryption\"\n",
        "print('Plain Text:', plaintext)\n",
        "aes = pyaes.AESModeOfOperationCTR(key, pyaes.Counter(iv))\n",
        "ciphertext = aes.encrypt(plaintext)\n",
        "print('Encrypted:', binascii.hexlify(ciphertext))\n",
        "\n",
        "# Decrypt the ciphertext with the given key:\n",
        "#   plaintext = AES-256-CTR-Decrypt(ciphertext, key, iv)\n",
        "aes = pyaes.AESModeOfOperationCTR(key, pyaes.Counter(iv))\n",
        "decrypted = aes.decrypt(ciphertext)\n",
        "print('Decrypted:', decrypted)"
      ]
    }
  ]
}